{
 "cells": [
  {
   "cell_type": "code",
   "execution_count": 65,
   "metadata": {},
   "outputs": [],
   "source": [
    "import numpy as np"
   ]
  },
  {
   "cell_type": "markdown",
   "metadata": {},
   "source": [
    "## 折叠共源共栅放大器\n",
    "\n",
    "电路图如下\n",
    "\n",
    "<img src=\"https://xkraft-blog-1211-1314103412.cos.ap-nanjing.myqcloud.com/img/%E7%94%B5%E8%B7%AF%E5%9B%BE.jpg\" alt=\"电路图\" style=\"zoom: 25%;\" />\n",
    "\n",
    "#==========================================================#内是需要手动设置的参数\n",
    "\n",
    "以下计算均取国际标准单位"
   ]
  },
  {
   "cell_type": "code",
   "execution_count": 66,
   "metadata": {},
   "outputs": [],
   "source": [
    "#==========================================================#\n",
    "#性能指标\n",
    "VDD = 3.3 #单位V\n",
    "GB = 3 * 10**(6) #增益带宽，单位：Hz\n",
    "SR = 5 * 10**(6) #摆率，单位：V/s\n",
    "ICMR_MIN = 1.1 #输入共模范围最小值，单位：V\n",
    "ICMR_MAX = 2.5 #输入共模范围最大值，单位：V\n",
    "phase_margin = 50 #相位裕量，单位：°\n",
    "Vout_MIN = 0.6 #- 0.1 #输出电压最小值，单位V\n",
    "Vout_MAX = 2.7 #+ 0.1 #输出电压最大值，单位V\n",
    "Pdiss = 5 * 10**(-3) #功耗，单位W\n",
    "#Av = 3000 #增益\n",
    "CL = 10 * 10**(-12) #负载电容，单位F，暂时定为10pF\n",
    "lemdaP = 0.05\n",
    "lemdaN = 0.04\n",
    "#==========================================================#"
   ]
  },
  {
   "cell_type": "code",
   "execution_count": 67,
   "metadata": {},
   "outputs": [
    {
     "name": "stdout",
     "output_type": "stream",
     "text": [
      "Kn:1.816579e-04\n",
      "Kp:4.822715e-05\n"
     ]
    }
   ],
   "source": [
    "s_si = 3.9 * 8.85 * 10**(-12) #硅的介电常数，单位F/m\n",
    "\n",
    "#==========================================================#\n",
    "tnox = 6.65 * 10**(-9) #NMOS栅氧厚度，单位m\n",
    "uno = 35 * 10**(-3) #NMOS沟道迁移率，单位m^2/V/s\n",
    "Vthn = 0.695 #NMOS阈值电压，单位V\n",
    "\n",
    "tpox = 6.62 * 10**(-9) #PMOS栅氧厚度，单位m\n",
    "upo = 9.25 * 10**(-3) #PMOS沟道迁移率，单位m^2/V/s\n",
    "Vthp = -0.672 #PMOS阈值电压，单位V\n",
    "#==========================================================#\n",
    "\n",
    "Kn = uno * s_si / tnox\n",
    "Kp = upo * s_si / tpox\n",
    "print('Kn:{:.6e}'.format(Kn))\n",
    "print('Kp:{:.6e}'.format(Kp))"
   ]
  },
  {
   "cell_type": "code",
   "execution_count": 68,
   "metadata": {},
   "outputs": [
    {
     "name": "stdout",
     "output_type": "stream",
     "text": [
      "I3:5.000000e-05\n"
     ]
    }
   ],
   "source": [
    "#米勒补偿电容Cc > 0.22CL\n",
    "Cc = 10 * 10**(-12) #单位F\n",
    "\n",
    "S = np.zeros((15,), dtype=float)#S[0]不用\n",
    "I = np.zeros((15,), dtype=float)#I[0]不用\n",
    "uo = np.zeros((15,), dtype=float)#uo[0]不用\n",
    "\n",
    "uo[14] = uo[4] = uo[5] = uo[13] = uo[6] = uo[7] = upo\n",
    "uo[1] = uo[2] = uo[3] = uo[8] = uo[9] = uo[10] = uo[11] = uo[12] = uno\n",
    "#确定尾电流I3\n",
    "I[3] = SR * Cc * 1\n",
    "print('I3:{:.6e}'.format(I[3]))"
   ]
  },
  {
   "cell_type": "code",
   "execution_count": 69,
   "metadata": {},
   "outputs": [
    {
     "name": "stdout",
     "output_type": "stream",
     "text": [
      "I4、I5:7.000000e-05\n"
     ]
    }
   ],
   "source": [
    "#==========================================================#\n",
    "#设置一个合适的比例，需在1.2到1.5之间\n",
    "rate1 = 1.4\n",
    "#==========================================================#\n",
    "#输出共源共栅的偏置电流\n",
    "I[4] = I[5] = rate1 * I[3]\n",
    "print('I4、I5:{:.6e}'.format(I[4]))"
   ]
  },
  {
   "cell_type": "code",
   "execution_count": 70,
   "metadata": {},
   "outputs": [
    {
     "name": "stdout",
     "output_type": "stream",
     "text": [
      "Vsd5 = Vsd7 :3.000000e-01\n",
      "S4、S5、S14:3.225477e+01\n"
     ]
    }
   ],
   "source": [
    "Vsd5 = Vsd7 = (VDD - Vout_MAX) / 2\n",
    "print('Vsd5 = Vsd7 :{:.6e}'.format(Vsd5))\n",
    "S[4] = S[5] = S[14] = (2 * I[5]) / (Kp * Vsd5**(2))\n",
    "print('S4、S5、S14:{:.6e}'.format(S[4]))"
   ]
  },
  {
   "cell_type": "code",
   "execution_count": 71,
   "metadata": {},
   "outputs": [
    {
     "name": "stdout",
     "output_type": "stream",
     "text": [
      "S6、S7、S13:3.225477e+01\n"
     ]
    }
   ],
   "source": [
    "#假设M6、M7电流处于最坏情况\n",
    "I[6] = I[7] = I[5]\n",
    "S[6] = S[7] = S[13] = (2 * I[7]) / (Kp * Vsd7**(2))\n",
    "print('S6、S7、S13:{:.6e}'.format(S[6]))"
   ]
  },
  {
   "cell_type": "code",
   "execution_count": 72,
   "metadata": {},
   "outputs": [
    {
     "name": "stdout",
     "output_type": "stream",
     "text": [
      "Vsd9 :3.000000e-01\n",
      "S8、S9、S10、S11:8.563105e+00\n"
     ]
    }
   ],
   "source": [
    "Vsd9 = Vsd11 = (Vout_MIN - 0) / 2\n",
    "print('Vsd9 :{:.6e}'.format(Vsd9))\n",
    "I[8] = I[9] = I[10] = I[11] = I[6]\n",
    "S[8] = S[9] = S[10] = S[11] = (2 * I[9]) / (Kn * Vsd9**(2))\n",
    "print('S8、S9、S10、S11:{:.6e}'.format(S[8]))"
   ]
  },
  {
   "cell_type": "code",
   "execution_count": 73,
   "metadata": {},
   "outputs": [
    {
     "name": "stdout",
     "output_type": "stream",
     "text": [
      "S1、S2:3.911812e+00\n"
     ]
    }
   ],
   "source": [
    "S[1] = S[2] = ((2 * np.pi * GB)**(2) * CL**(2)) / (Kn * I[3])\n",
    "print('S1、S2:{:.6e}'.format(S[1]))"
   ]
  },
  {
   "cell_type": "code",
   "execution_count": 74,
   "metadata": {},
   "outputs": [
    {
     "name": "stdout",
     "output_type": "stream",
     "text": [
      "vds3:1.397418e-01 V\n",
      "S3:2.818988e+01\n"
     ]
    }
   ],
   "source": [
    "#S[3] = (2 * 5.000000e-05) / (Kn * ( (ICMR_MIN - np.sqrt(5.000000e-05 / (Kn * 3.9)) - Vthn))**(2))\n",
    "S[3] = (2 * I[3]) / (Kn * ( (ICMR_MIN - np.sqrt(I[3] / (Kn * S[1])) - Vthn))**(2))\n",
    "vds3 = ((ICMR_MIN - np.sqrt(I[3] / (Kn * S[1])) - Vthn))\n",
    "print('vds3:{:.6e} V'.format(vds3))\n",
    "print('S3:{:.6e}'.format(S[3]))"
   ]
  },
  {
   "cell_type": "code",
   "execution_count": 75,
   "metadata": {},
   "outputs": [
    {
     "name": "stdout",
     "output_type": "stream",
     "text": [
      "S_temp:3.519391e-01\n",
      "满足条件\n"
     ]
    }
   ],
   "source": [
    "#验证S4、S5是否足够大以满足最大输入共模电压\n",
    "S_temp = (2 * I[4]) / (Kp * (VDD - ICMR_MIN - Vthp)**(2))\n",
    "print('S_temp:{:.6e}'.format(S_temp))\n",
    "if(S[3] >= S_temp):\n",
    "    print(\"满足条件\")\n",
    "else:\n",
    "    print(\"不满足条件，需重新设计S3、S4\")"
   ]
  },
  {
   "cell_type": "code",
   "execution_count": 76,
   "metadata": {},
   "outputs": [
    {
     "name": "stdout",
     "output_type": "stream",
     "text": [
      "S12:3.946584e+01\n"
     ]
    }
   ],
   "source": [
    "S[12] = (S[3] * I[4]) / I[3]\n",
    "print('S12:{:.6e}'.format(S[12]))"
   ]
  },
  {
   "cell_type": "code",
   "execution_count": 77,
   "metadata": {},
   "outputs": [
    {
     "name": "stdout",
     "output_type": "stream",
     "text": [
      "P:6.930000e-04\n",
      "功耗满足要求\n"
     ]
    }
   ],
   "source": [
    "#功耗计算\n",
    "P = VDD * (I[4] * 3)\n",
    "print('P:{:.6e}'.format(P))\n",
    "if(P < Pdiss):\n",
    "    print(\"功耗满足要求\")\n",
    "else:\n",
    "    print(\"功耗不满足要求，请重新设计\")"
   ]
  },
  {
   "cell_type": "code",
   "execution_count": 78,
   "metadata": {},
   "outputs": [
    {
     "name": "stdout",
     "output_type": "stream",
     "text": [
      "I4、I5:7.000000e-05 A\n",
      "g[4]、g[5]、g[13]、g[14]：4.666667e-04 S\n",
      "g[6]、g[7]：3.741657e-04 S\n",
      "g[8]、g[9]：3.741657e-04 S\n",
      "g[1]、g[2]：1.884956e-04 S\n",
      "gds[4]、gds[5]、gds[13]、gds[14]：3.500000e-06 S\n",
      "gds[6]、gds[7]：2.250000e-06 S\n",
      "gds[8]、gds[9]、gds[10]、gds[11]：1.800000e-06 S\n",
      "gds[1]、gds[2]：1.000000e-06 S\n"
     ]
    }
   ],
   "source": [
    "#计算小信号模型下的跨导\n",
    "g = np.zeros((15,), dtype=float)#g[0]不用\n",
    "print('I4、I5:{:.6e} A'.format(I[4]))\n",
    "#Kp、Kn的单位是A/V^2 I的单位是A S标量 开根量纲是A/V 也就是S\n",
    "g[4] = g[5] = g[13] = g[14] = np.sqrt(2 * I[5] * Kp * S[5])\n",
    "g[6] = g[7] = np.sqrt(2 * (I[5] - I[3] / 2) * Kp * S[7])\n",
    "g[8] = g[9] = g[10] = g[11] = np.sqrt(2 * (I[5] - I[3] / 2) * Kn * S[11])\n",
    "g[1] = g[2] = np.sqrt(2 * (I[3] / 2) * Kn * S[1])\n",
    "print('g[4]、g[5]、g[13]、g[14]：{:.6e} S'.format(g[4]))\n",
    "print('g[6]、g[7]：{:.6e} S'.format(g[6]))\n",
    "print('g[8]、g[9]：{:.6e} S'.format(g[8]))\n",
    "print('g[1]、g[2]：{:.6e} S'.format(g[1]))\n",
    "gds = np.zeros((15,), dtype=float)#gds[0]不用\n",
    "gds[4] = gds[5] = gds[13] = gds[14] = I[5] * lemdaP\n",
    "gds[6] = gds[7] = (I[5] - I[3] / 2)  * lemdaP\n",
    "gds[8] = gds[9] = gds[10] = gds[11] = (I[5] - I[3] / 2) * lemdaN\n",
    "gds[1] = gds[2] = (I[3] / 2) * lemdaN\n",
    "print('gds[4]、gds[5]、gds[13]、gds[14]：{:.6e} S'.format(gds[4]))\n",
    "print('gds[6]、gds[7]：{:.6e} S'.format(gds[6]))\n",
    "print('gds[8]、gds[9]、gds[10]、gds[11]：{:.6e} S'.format(gds[8]))\n",
    "print('gds[1]、gds[2]：{:.6e} S'.format(gds[1]))"
   ]
  },
  {
   "cell_type": "code",
   "execution_count": 79,
   "metadata": {},
   "outputs": [
    {
     "name": "stdout",
     "output_type": "stream",
     "text": [
      "rds[4]、rds[5]、rds[13]、rds[14]：2.857143e+05 Ω\n",
      "rds[6]、rds[7]：4.444444e+05 Ω\n",
      "rds[8]、rds[9]、rds[10]、rds[11]：5.555556e+05 Ω\n",
      "rds[1]、rds[2]：1.000000e+06 Ω\n",
      "r：3.695464e+07 Ω\n",
      "R[9]：1.154833e+08 Ω\n",
      "R[11]：2.799594e+07 Ω\n",
      "k:3.125000e+00\n",
      "Avd:3.278205e+03\n"
     ]
    }
   ],
   "source": [
    "#计算R9、R11、k\n",
    "rds = np.zeros((15,), dtype=float)#rds[0]不用\n",
    "R = np.zeros((15,), dtype=float)#R[0]不用\n",
    "\n",
    "rds[4] = rds[5] = rds[13] = rds[14] = 1/gds[4]\n",
    "rds[6] = rds[7] = 1/gds[6]\n",
    "rds[8] = rds[9] = rds[10] = rds[11] = 1/gds[8]\n",
    "rds[1] = rds[2] = 1/gds[1]\n",
    "\n",
    "print('rds[4]、rds[5]、rds[13]、rds[14]：{:.6e} Ω'.format(rds[4]))\n",
    "print('rds[6]、rds[7]：{:.6e} Ω'.format(rds[6]))\n",
    "print('rds[8]、rds[9]、rds[10]、rds[11]：{:.6e} Ω'.format(rds[8]))\n",
    "print('rds[1]、rds[2]：{:.6e} Ω'.format(rds[1]))\n",
    "\n",
    "R[9] = g[9] * rds[9] * rds[11]\n",
    "#r[1]= g[6] * rds[6] * (rds[1] * rds[4]/(rds[1] + rds[4]))\n",
    "r = g[6] * rds[6] * (1/(gds[1] + gds[4]))\n",
    "R[11] = (R[9] * r)/(R[9] + r)\n",
    "k =R[9] * (gds[2] + gds[4])/(g[7] * rds[7]) #k\n",
    "Avd = (2 + k)/(2 + 2 * k) * g[1] * R[11] #Avd\n",
    "\n",
    "print('r：{:.6e} Ω'.format(r))\n",
    "print('R[9]：{:.6e} Ω'.format(R[9]))\n",
    "print('R[11]：{:.6e} Ω'.format(R[11]))\n",
    "print('k:{:.6e}'.format(k))\n",
    "print('Avd:{:.6e}'.format(Avd))"
   ]
  },
  {
   "cell_type": "code",
   "execution_count": 80,
   "metadata": {},
   "outputs": [
    {
     "name": "stdout",
     "output_type": "stream",
     "text": [
      "Vbias[3]：8.347418e-01 V\n",
      "Vbias[12]：8.347418e-01 V\n",
      "Von：1.397418e-01 V\n",
      "Slou[1]、Slou[2]、Slou[3]、Slou[5]：8.800000e+00 \n",
      "Rref[1]：4.651033e+04 Ω\n",
      "Rref[2]：4.930516e+04 Ω\n",
      "S3:2.818988e+01\n"
     ]
    }
   ],
   "source": [
    "#电流漏的设计计算,取最小的作为偏置电压\n",
    "Vbias = np.zeros((15,), dtype=float)#Vbias[0]不用\n",
    "#Slou = np.zeros((15,), dtype=float)#Slou[0]不用\n",
    "#Von = np.zeros((15,), dtype=float)#Slou[0]不用\n",
    "Rref = np.zeros((15,), dtype=float)#Slou[0]不用\n",
    "\n",
    "Slou = 8.8\n",
    "Vbias[3] = np.sqrt(2 * I[3] / (Kn * S[3])) + Vthn\n",
    "Vbias[12] = np.sqrt(2 * I[4] / (Kn * S[12])) + Vthn\n",
    "print('Vbias[3]：{:.6e} V'.format(Vbias[3]))\n",
    "print('Vbias[12]：{:.6e} V'.format(Vbias[12]))\n",
    "#Von is vgs- vthn,so vgs1 is vbias3\n",
    "Von = Vbias[3] - Vthn\n",
    "print('Von：{:.6e} V'.format(Von))\n",
    "#Slou[1] = Slou[2] = Slou[3] = Slou[5] = 2 * I[3] / (Kn * Von[1] * Von[1])\n",
    "#Slou = 2 * I[3] / (Kn * Von * Von)\n",
    "\n",
    "print('Slou[1]、Slou[2]、Slou[3]、Slou[5]：{:.6e} '.format(Slou))\n",
    "Rref[1] = (3.3 - Vthn - 2*Von)/I[3]\n",
    "Rref[2] = (3.3 - Vthn - Von)/I[3]\n",
    "print('Rref[1]：{:.6e} Ω'.format(Rref[1]))\n",
    "print('Rref[2]：{:.6e} Ω'.format(Rref[2]))\n",
    "print('S3:{:.6e}'.format(S[3]))\n",
    "\n"
   ]
  }
 ],
 "metadata": {
  "kernelspec": {
   "display_name": "yangxiuqi",
   "language": "python",
   "name": "python3"
  },
  "language_info": {
   "codemirror_mode": {
    "name": "ipython",
    "version": 3
   },
   "file_extension": ".py",
   "mimetype": "text/x-python",
   "name": "python",
   "nbconvert_exporter": "python",
   "pygments_lexer": "ipython3",
   "version": "3.7.9"
  },
  "orig_nbformat": 4
 },
 "nbformat": 4,
 "nbformat_minor": 2
}
